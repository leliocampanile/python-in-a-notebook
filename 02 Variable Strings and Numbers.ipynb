{
  "nbformat": 4,
  "nbformat_minor": 0,
  "metadata": {
    "kernelspec": {
      "display_name": "Python 3",
      "language": "python",
      "name": "python3"
    },
    "language_info": {
      "codemirror_mode": {
        "name": "ipython",
        "version": 3
      },
      "file_extension": ".py",
      "mimetype": "text/x-python",
      "name": "python",
      "nbconvert_exporter": "python",
      "pygments_lexer": "ipython3",
      "version": "3.5.1"
    },
    "colab": {
      "name": "02 Variable Strings and Numbers.ipynb",
      "provenance": [],
      "toc_visible": true,
      "include_colab_link": true
    }
  },
  "cells": [
    {
      "cell_type": "markdown",
      "metadata": {
        "id": "view-in-github",
        "colab_type": "text"
      },
      "source": [
        "<a href=\"https://colab.research.google.com/github/leliocampanile/python-in-a-notebook/blob/master/02%20Variable%20Strings%20and%20Numbers.ipynb\" target=\"_parent\"><img src=\"https://colab.research.google.com/assets/colab-badge.svg\" alt=\"Open In Colab\"/></a>"
      ]
    },
    {
      "cell_type": "markdown",
      "metadata": {
        "id": "AKaRqK822xVM"
      },
      "source": [
        "# Variables, Strings, and Numbers"
      ]
    },
    {
      "cell_type": "markdown",
      "metadata": {
        "id": "Lhz2_Fv82xVM"
      },
      "source": [
        "In this section, you will learn to store information in variables. \n",
        "\n",
        "You will learn about two types of data: strings, which are sets of characters, and numerical data types."
      ]
    },
    {
      "cell_type": "markdown",
      "metadata": {
        "id": "vuPZd8Le2xVM"
      },
      "source": [
        "## <a name=\"top\"></a>Contents\n",
        "---\n",
        "- [Variables](#variables)\n",
        "    - [Example](#example)\n",
        "    - [Naming rules](#naming_rules)\n",
        "    - [NameError](#name_error)\n",
        "    - [Exercises](#exercises_variables)\n",
        "- [Strings](#strings)\n",
        "    - [Single and double quotes](#single_double_quotes)\n",
        "    - [Changing case](#changing_case)\n",
        "    - [Combining strings (concatenation)](#concatenation)\n",
        "    - [Whitespace](#whitespace)\n",
        "    - [Exercises](#exercises_strings)\n",
        "- [Numbers](#numbers)\n",
        "    - [Integer operations](#integer_operations)\n",
        "    - [Floating-point numbers](#floats)\n",
        "    - [Exercises](#exercises_numbers)\n",
        "    - [Challenges](#challenges_numbers)\n",
        "- [Comments](#comments)\n",
        "    - [What makes a good comment?](#good_comments)\n",
        "    - [When should you write comments?](#when_comments)\n",
        "    - [Exercises](#exercises_comments)\n",
        "- [Overall Challenges](#challenges_overall)"
      ]
    },
    {
      "cell_type": "markdown",
      "metadata": {
        "id": "j2PBs9T02xVM"
      },
      "source": [
        "<a name='variables'></a>Variables\n",
        "===\n",
        "A variable holds a value."
      ]
    },
    {
      "cell_type": "markdown",
      "metadata": {
        "id": "zZJdPvzK2xVM"
      },
      "source": [
        "<a name='example'></a>Example\n",
        "---"
      ]
    },
    {
      "cell_type": "code",
      "metadata": {
        "id": "aBxgpDpE2xVM",
        "outputId": "cf2e8d3d-8507-4939-cd3d-b18ad41539c8",
        "colab": {
          "base_uri": "https://localhost:8080/"
        }
      },
      "source": [
        "message = \"Hello Python world!\"\n",
        "print(message)"
      ],
      "execution_count": 1,
      "outputs": [
        {
          "output_type": "stream",
          "text": [
            "Hello Python world!\n"
          ],
          "name": "stdout"
        }
      ]
    },
    {
      "cell_type": "markdown",
      "metadata": {
        "id": "doIBmqJh2xVN"
      },
      "source": [
        "A variable holds a value. You can change the value of a variable at any point."
      ]
    },
    {
      "cell_type": "code",
      "metadata": {
        "id": "pnhTuiyt2xVN",
        "outputId": "694689fc-0a12-42d1-dfd9-f34495255056",
        "colab": {
          "base_uri": "https://localhost:8080/"
        }
      },
      "source": [
        "message = \"Hello Python world!\"\n",
        "print(message)\n",
        "\n",
        "message = \"Python is my favorite language!\"\n",
        "print(message)"
      ],
      "execution_count": 2,
      "outputs": [
        {
          "output_type": "stream",
          "text": [
            "Hello Python world!\n",
            "Python is my favorite language!\n"
          ],
          "name": "stdout"
        }
      ]
    },
    {
      "cell_type": "markdown",
      "metadata": {
        "id": "NQ2Zzxd42xVN"
      },
      "source": [
        "<a name='naming_rules'></a>Naming rules\n",
        "---\n",
        "- Variables can only contain letters, numbers, and underscores. Variable names can start with a letter or an underscore, but can not start with a number.\n",
        "- Spaces are not allowed in variable names, so we use underscores instead of spaces. For example, use student_name instead of \"student name\".\n",
        "- You cannot use [Python keywords](http://docs.python.org/3/reference/lexical_analysis.html#keywords) as variable names.\n",
        "- Variable names should be descriptive, without being too long. For example mc_wheels is better than just \"wheels\", and number_of_wheels_on_a_motorycle.\n",
        "- Be careful about using the lowercase letter l and the uppercase letter O in places where they could be confused with the numbers 1 and 0."
      ]
    },
    {
      "cell_type": "markdown",
      "metadata": {
        "id": "5ii_pDNP2xVN"
      },
      "source": [
        "<a name='name_error'></a>NameError\n",
        "---\n",
        "There is one common error when using variables, that you will almost certainly encounter at some point. Take a look at this code, and see if you can figure out why it causes an error."
      ]
    },
    {
      "cell_type": "code",
      "metadata": {
        "id": "EhEd9EwV2xVN",
        "outputId": "350ad746-9901-43cf-97d5-8bf12a344fa1",
        "colab": {
          "base_uri": "https://localhost:8080/",
          "height": 181
        }
      },
      "source": [
        "message = \"Thank you for sharing Python with the world, Guido!\"\n",
        "print(mesage)"
      ],
      "execution_count": 3,
      "outputs": [
        {
          "output_type": "error",
          "ename": "NameError",
          "evalue": "ignored",
          "traceback": [
            "\u001b[0;31m---------------------------------------------------------------------------\u001b[0m",
            "\u001b[0;31mNameError\u001b[0m                                 Traceback (most recent call last)",
            "\u001b[0;32m<ipython-input-3-85929e5c0a3c>\u001b[0m in \u001b[0;36m<module>\u001b[0;34m()\u001b[0m\n\u001b[1;32m      1\u001b[0m \u001b[0mmessage\u001b[0m \u001b[0;34m=\u001b[0m \u001b[0;34m\"Thank you for sharing Python with the world, Guido!\"\u001b[0m\u001b[0;34m\u001b[0m\u001b[0;34m\u001b[0m\u001b[0m\n\u001b[0;32m----> 2\u001b[0;31m \u001b[0mprint\u001b[0m\u001b[0;34m(\u001b[0m\u001b[0mmesage\u001b[0m\u001b[0;34m)\u001b[0m\u001b[0;34m\u001b[0m\u001b[0;34m\u001b[0m\u001b[0m\n\u001b[0m",
            "\u001b[0;31mNameError\u001b[0m: name 'mesage' is not defined"
          ]
        }
      ]
    },
    {
      "cell_type": "markdown",
      "metadata": {
        "id": "xn3u6w182xVO"
      },
      "source": [
        "Let's look through this error message. First, we see it is a NameError. Then we see the file that caused the error, and a green arrow shows us what line in that file caused the error. Then we get some more specific feedback, that \"name 'mesage' is not defined\"."
      ]
    },
    {
      "cell_type": "markdown",
      "metadata": {
        "id": "qlk9O3S82xVO"
      },
      "source": [
        "You may have already spotted the source of the error. We spelled message two different ways. Python does not care whether we use the variable name \"message\" or \"mesage\". Python only cares that the spellings of our variable names match every time we use them.\n",
        "\n",
        "This is pretty important, because it allows us to have a variable \"name\" with a single name in it, and then another variable \"names\" with a bunch of names in it."
      ]
    },
    {
      "cell_type": "markdown",
      "metadata": {
        "id": "8c-ppsCC2xVO"
      },
      "source": [
        "We can fix **NameErrors** by making sure all of our variable names are spelled consistently."
      ]
    },
    {
      "cell_type": "code",
      "metadata": {
        "id": "stomve9D2xVO",
        "outputId": "64e70aec-6e46-4954-836e-ecbd62a5b14a"
      },
      "source": [
        "message = \"Thank you for sharing Python with the world, Guido!\"\n",
        "print(message)"
      ],
      "execution_count": null,
      "outputs": [
        {
          "output_type": "stream",
          "text": [
            "Thank you for sharing Python with the world, Guido!\n"
          ],
          "name": "stdout"
        }
      ]
    },
    {
      "cell_type": "markdown",
      "metadata": {
        "id": "NBMiH1bd2xVO"
      },
      "source": [
        "In case you didn't know [Guido](http://en.wikipedia.org/wiki/Guido_van_Rossum) [van Rossum](http://www.python.org/~guido/) created the Python language over 20 years ago, and he is considered Python's [Benevolent Dictator for Life](http://en.wikipedia.org/wiki/Benevolent_Dictator_for_Life). Guido still signs off on all major changes to the core Python language."
      ]
    },
    {
      "cell_type": "markdown",
      "metadata": {
        "id": "xU6A9lMP2xVO"
      },
      "source": [
        "<a name='exercises_variables'></a>Exercises\n",
        "---\n",
        "#### Hello World - variable\n",
        "\n",
        "- Store your own version of the message \"Hello World\" in a variable, and print it.\n",
        "\n",
        "#### One Variable, Two Messages:\n",
        "- Store a message in a variable, and then print that message.\n",
        "- Store a new message in the same variable, and then print that new message."
      ]
    },
    {
      "cell_type": "code",
      "metadata": {
        "id": "mJJ6dwYj2xVO"
      },
      "source": [
        "# Ex 2.1 : Hello World - Variable\n",
        "\n",
        "# put your code here"
      ],
      "execution_count": 4,
      "outputs": []
    },
    {
      "cell_type": "code",
      "metadata": {
        "id": "xABRPUWm2xVO"
      },
      "source": [
        "# Ex 2.2 : One Variable, Two Messages\n",
        "\n",
        "# put your code here"
      ],
      "execution_count": 5,
      "outputs": []
    },
    {
      "cell_type": "markdown",
      "metadata": {
        "id": "FMAgoriu2xVO"
      },
      "source": [
        "[top](#top)"
      ]
    },
    {
      "cell_type": "markdown",
      "metadata": {
        "id": "-opdHslh2xVO"
      },
      "source": [
        "<a name='strings'></a>Introduction to Strings\n",
        "===\n",
        "Strings are sets of characters. Strings are easier to understand by looking at some examples. Come on!"
      ]
    },
    {
      "cell_type": "markdown",
      "metadata": {
        "id": "U5qURbFW2xVO"
      },
      "source": [
        "<a name='single_double_quotes'></a>Single and double quotes\n",
        "---\n",
        "Strings are contained by either single or double quotes."
      ]
    },
    {
      "cell_type": "code",
      "metadata": {
        "collapsed": true,
        "id": "XhmBkiUe2xVO"
      },
      "source": [
        "my_string = \"This is a double-quoted string.\"\n",
        "my_string = 'This is a single-quoted string.'"
      ],
      "execution_count": null,
      "outputs": []
    },
    {
      "cell_type": "markdown",
      "metadata": {
        "id": "nJBcb4D_2xVO"
      },
      "source": [
        "This lets us make strings that contain quotations."
      ]
    },
    {
      "cell_type": "code",
      "metadata": {
        "id": "c82DLS-n2xVO"
      },
      "source": [
        "quote = \"Linus Torvalds once said, \\\n",
        "         'Any program is only as good as it is useful.'\""
      ],
      "execution_count": null,
      "outputs": []
    },
    {
      "cell_type": "markdown",
      "metadata": {
        "id": "q71myI-h2xVO"
      },
      "source": [
        "### Multiline Strings\n",
        "\n",
        "In case we need to create a multiline string, there is the **triple-quote** to the rescue:\n",
        "`'''`"
      ]
    },
    {
      "cell_type": "code",
      "metadata": {
        "id": "lcbDjRyJ2xVO",
        "outputId": "b5a9ab1b-54a9-4218-da1e-345e7919a4e3"
      },
      "source": [
        "multiline_string = '''This is a string where I \n",
        "can confortably write on multiple lines\n",
        "without worring about to use the escape character \"\\\\\" as in\n",
        "the previsou example. \n",
        "As you'll see, the original string formatting is preserved.\n",
        "'''\n",
        "\n",
        "print(multiline_string)"
      ],
      "execution_count": null,
      "outputs": [
        {
          "output_type": "stream",
          "text": [
            "This is a string where I \n",
            "can confortably write on multiple lines\n",
            "without worrynng about to use the escape character \"\\\" as in\n",
            "the previsou example. \n",
            "As you'll see, the original string formatting is preserved.\n",
            "\n"
          ],
          "name": "stdout"
        }
      ]
    },
    {
      "cell_type": "markdown",
      "metadata": {
        "id": "RDpArXCe2xVO"
      },
      "source": [
        "<a name='changing_case'></a>Changing case\n",
        "---\n",
        "You can easily change the case of a string, to present it the way you want it to look."
      ]
    },
    {
      "cell_type": "code",
      "metadata": {
        "id": "peecXNyK2xVO",
        "outputId": "69b077db-43da-4503-a4a1-65bdf680d831"
      },
      "source": [
        "first_name = 'eric'\n",
        "\n",
        "print(first_name)\n",
        "print(first_name.title())"
      ],
      "execution_count": null,
      "outputs": [
        {
          "output_type": "stream",
          "text": [
            "eric\n",
            "Eric\n"
          ],
          "name": "stdout"
        }
      ]
    },
    {
      "cell_type": "markdown",
      "metadata": {
        "id": "tnlk3rDq2xVP"
      },
      "source": [
        "It is often good to store data in lower case, and then change the case as you want to for presentation. This catches some TYpos. It also makes sure that 'eric', 'Eric', and 'ERIC' are not considered three different people.\n",
        "\n",
        "Some of the most common cases are lower, title, and upper."
      ]
    },
    {
      "cell_type": "code",
      "metadata": {
        "id": "6rPZPzIY2xVP",
        "outputId": "28758b83-ee28-49a6-c212-8e212f438aca"
      },
      "source": [
        "first_name = 'eric'\n",
        "\n",
        "print(first_name)\n",
        "print(first_name.title())\n",
        "print(first_name.upper())\n",
        "\n",
        "first_name_titled = 'Eric'\n",
        "print(first_name_titled.lower())"
      ],
      "execution_count": null,
      "outputs": [
        {
          "output_type": "stream",
          "text": [
            "eric\n",
            "Eric\n",
            "ERIC\n",
            "eric\n"
          ],
          "name": "stdout"
        }
      ]
    },
    {
      "cell_type": "markdown",
      "metadata": {
        "id": "9MWc69Vy2xVP"
      },
      "source": [
        "**Note**: Please notice that the original strings remain **always** unchanged"
      ]
    },
    {
      "cell_type": "code",
      "metadata": {
        "id": "MjduwzJ-2xVP",
        "outputId": "e3486f3e-e663-4b71-c81b-dffbb56159c4"
      },
      "source": [
        "print(first_name)\n",
        "print(first_name_titled)"
      ],
      "execution_count": null,
      "outputs": [
        {
          "output_type": "stream",
          "text": [
            "eric\n",
            "Eric\n"
          ],
          "name": "stdout"
        }
      ]
    },
    {
      "cell_type": "markdown",
      "metadata": {
        "id": "s_M7zatE2xVP"
      },
      "source": [
        "You will see this syntax quite often, where a variable name is followed by a dot and then the name of an action, followed by a set of parentheses. The parentheses may be empty, or they may contain some values.\n",
        "\n",
        "    variable_name.action()\n",
        "\n",
        "In this example, the word \"action\" is the name of a **method**. "
      ]
    },
    {
      "cell_type": "markdown",
      "metadata": {
        "id": "iGvUYZlj2xVP"
      },
      "source": [
        "A method is something that can be done to a variable."
      ]
    },
    {
      "cell_type": "markdown",
      "metadata": {
        "id": "UzDwpyOm2xVP"
      },
      "source": [
        "The methods `lower`, `title`, and `upper` are all functions that have been written into the Python language, which do something to **strings**. \n",
        "\n",
        "Later on, you will learn to write your own methods."
      ]
    },
    {
      "cell_type": "markdown",
      "metadata": {
        "id": "wSAMyMHb2xVP"
      },
      "source": [
        "<a name='concatenation'></a>Combining strings (concatenation)\n",
        "---\n",
        "It is often very useful to be able to combine strings into a message or page element that we want to display. Again, this is easier to understand through an example."
      ]
    },
    {
      "cell_type": "code",
      "metadata": {
        "id": "AspZdBKt2xVP",
        "outputId": "005680ae-c434-4892-8ead-04b77a98f72d"
      },
      "source": [
        "first_name = 'ada'\n",
        "last_name = 'lovelace'\n",
        "\n",
        "full_name = first_name + ' ' + last_name\n",
        "\n",
        "print(full_name.title())"
      ],
      "execution_count": null,
      "outputs": [
        {
          "output_type": "stream",
          "text": [
            "Ada Lovelace\n"
          ],
          "name": "stdout"
        }
      ]
    },
    {
      "cell_type": "markdown",
      "metadata": {
        "id": "XzrXZswK2xVP"
      },
      "source": [
        "The plus sign combines two strings into one, which is called **concatenation**. "
      ]
    },
    {
      "cell_type": "markdown",
      "metadata": {
        "id": "abkenTWp2xVP"
      },
      "source": [
        "You can use as many plus signs as you want in composing messages. In fact, many web pages are written as giant strings which are put together through a long series of string concatenations."
      ]
    },
    {
      "cell_type": "code",
      "metadata": {
        "id": "IzR0Pahq2xVP",
        "outputId": "776f71df-42ae-4fef-e803-4f64af09e891"
      },
      "source": [
        "first_name = 'ada'\n",
        "last_name = 'lovelace'\n",
        "full_name = first_name + ' ' + last_name\n",
        "\n",
        "message = full_name.title() + ' ' + \\\n",
        "        \"was considered the world's first computer programmer.\"\n",
        "\n",
        "print(message)"
      ],
      "execution_count": null,
      "outputs": [
        {
          "output_type": "stream",
          "text": [
            "Ada Lovelace was considered the world's first computer programmer.\n"
          ],
          "name": "stdout"
        }
      ]
    },
    {
      "cell_type": "markdown",
      "metadata": {
        "id": "X5WTXlwL2xVP"
      },
      "source": [
        "If you don't know who Ada Lovelace is, you might want to go read what [Wikipedia](http://en.wikipedia.org/wiki/Ada_Lovelace) or the [Computer History Museum](http://www.computerhistory.org/babbage/adalovelace/) have to say about her. Her life and her work are also the inspiration for the [Ada Initiative](http://adainitiative.org/faq/about-ada-lovelace/), which supports women who are involved in technical fields."
      ]
    },
    {
      "cell_type": "markdown",
      "metadata": {
        "id": "jkIDzUnF2xVQ"
      },
      "source": [
        "### Brief introduction to string formatting"
      ]
    },
    {
      "cell_type": "code",
      "metadata": {
        "id": "658LQ41S2xVQ",
        "outputId": "a426988d-c47a-4577-a166-8e01206bbe9f"
      },
      "source": [
        "string_template = 'The result of the calculation of {calc} is {res}'\n",
        "print(\"String Template: \", string_template)\n",
        "\n",
        "print(string_template.format(calc='(3*4)+2', res=(3*4)+2))"
      ],
      "execution_count": null,
      "outputs": [
        {
          "output_type": "stream",
          "text": [
            "String Template:  The result of the calculation of {calc} is {res}\n",
            "The result of the calculation of (3*4)+2 is 14\n"
          ],
          "name": "stdout"
        }
      ]
    },
    {
      "cell_type": "markdown",
      "metadata": {
        "id": "NaaufpUb2xVQ"
      },
      "source": [
        "### There's much more than that!\n",
        "\n",
        "For further information about *String formatting*, see the official online documentation about the [`string`](https://docs.python.org/3/library/string.html) module."
      ]
    },
    {
      "cell_type": "markdown",
      "metadata": {
        "id": "KvM0596A2xVQ"
      },
      "source": [
        "<a name='whitespace'></a>Whitespace\n",
        "---\n",
        "The term \"whitespace\" refers to characters that the computer is aware of, but are invisible to readers. The most common whitespace characters are spaces, tabs, and newlines.\n",
        "\n",
        "Spaces are easy to create, because you have been using them as long as you have been using computers. Tabs and newlines are represented by special character combinations.\n",
        "\n",
        "The two-character combination \"\\t\" makes a tab appear in a string. Tabs can be used anywhere you like in a string."
      ]
    },
    {
      "cell_type": "code",
      "metadata": {
        "id": "KY0EqP9Q2xVQ",
        "outputId": "0bb2571a-8adb-4ac3-9922-cff42f3b0ce5"
      },
      "source": [
        "print(\"Hello everyone!\")"
      ],
      "execution_count": null,
      "outputs": [
        {
          "output_type": "stream",
          "text": [
            "Hello everyone!\n"
          ],
          "name": "stdout"
        }
      ]
    },
    {
      "cell_type": "code",
      "metadata": {
        "id": "qf-5UEf52xVQ",
        "outputId": "7f51395c-f0e1-4b7e-aaf7-6312d3e186ef"
      },
      "source": [
        "print(\"\\tHello everyone!\")"
      ],
      "execution_count": null,
      "outputs": [
        {
          "output_type": "stream",
          "text": [
            "\tHello everyone!\n"
          ],
          "name": "stdout"
        }
      ]
    },
    {
      "cell_type": "code",
      "metadata": {
        "id": "qc6mSOev2xVQ",
        "outputId": "22036a7a-ae01-4798-b6eb-3d3ca0ab7571"
      },
      "source": [
        "print(\"Hello \\teveryone!\")"
      ],
      "execution_count": null,
      "outputs": [
        {
          "output_type": "stream",
          "text": [
            "Hello \teveryone!\n"
          ],
          "name": "stdout"
        }
      ]
    },
    {
      "cell_type": "markdown",
      "metadata": {
        "id": "eoP0oi4G2xVQ"
      },
      "source": [
        "The combination \"\\n\" makes a newline appear in a string. You can use newlines anywhere you like in a string."
      ]
    },
    {
      "cell_type": "code",
      "metadata": {
        "id": "AEisRMgs2xVQ",
        "outputId": "4602b574-7e94-4607-d5ea-393c63b20c6f"
      },
      "source": [
        "print(\"Hello everyone!\")"
      ],
      "execution_count": null,
      "outputs": [
        {
          "output_type": "stream",
          "text": [
            "Hello everyone!\n"
          ],
          "name": "stdout"
        }
      ]
    },
    {
      "cell_type": "code",
      "metadata": {
        "id": "7KJ55cgg2xVQ",
        "outputId": "bbe9d91b-92a3-4c50-9485-5825ee58534c"
      },
      "source": [
        "print(\"\\nHello everyone!\")"
      ],
      "execution_count": null,
      "outputs": [
        {
          "output_type": "stream",
          "text": [
            "\n",
            "Hello everyone!\n"
          ],
          "name": "stdout"
        }
      ]
    },
    {
      "cell_type": "code",
      "metadata": {
        "id": "MsFiBVfT2xVQ",
        "outputId": "81c34191-e566-4207-d491-0434049544d4"
      },
      "source": [
        "print(\"Hello \\neveryone!\")"
      ],
      "execution_count": null,
      "outputs": [
        {
          "output_type": "stream",
          "text": [
            "Hello \n",
            "everyone!\n"
          ],
          "name": "stdout"
        }
      ]
    },
    {
      "cell_type": "code",
      "metadata": {
        "id": "vzmvEmIj2xVQ",
        "outputId": "019e4fe0-e85c-4afe-f612-bb89c1410a0a"
      },
      "source": [
        "print(\"\\n\\n\\nHello everyone!\")"
      ],
      "execution_count": null,
      "outputs": [
        {
          "output_type": "stream",
          "text": [
            "\n",
            "\n",
            "\n",
            "Hello everyone!\n"
          ],
          "name": "stdout"
        }
      ]
    },
    {
      "cell_type": "markdown",
      "metadata": {
        "id": "1EESC2s42xVQ"
      },
      "source": [
        "### Stripping whitespace\n",
        "\n",
        "Many times you will allow users to enter text into a box, and then you will read that text and use it. It is really easy for people to include extra whitespace at the beginning or end of their text. Whitespace includes spaces, tabs, and newlines.\n",
        "\n",
        "It is often a good idea to strip this whitespace from strings before you start working with them. For example, you might want to let people log in, and you probably want to treat 'eric ' as 'eric' when you are trying to see if I exist on your system."
      ]
    },
    {
      "cell_type": "markdown",
      "metadata": {
        "id": "iHO7Frx92xVQ"
      },
      "source": [
        "You can strip whitespace from the left side, the right side, or both sides of a string."
      ]
    },
    {
      "cell_type": "code",
      "metadata": {
        "id": "6qsHUZUF2xVQ",
        "outputId": "f473f11b-cb20-413b-bab8-76074ae58f25"
      },
      "source": [
        "name = ' eric '\n",
        "\n",
        "print(name.lstrip())\n",
        "print(name.rstrip())\n",
        "print(name.strip())"
      ],
      "execution_count": null,
      "outputs": [
        {
          "output_type": "stream",
          "text": [
            "eric \n",
            " eric\n",
            "eric\n"
          ],
          "name": "stdout"
        }
      ]
    },
    {
      "cell_type": "markdown",
      "metadata": {
        "id": "xZS9rTFv2xVQ"
      },
      "source": [
        "It's hard to see exactly what is happening, so maybe the following will make it a little more clear:"
      ]
    },
    {
      "cell_type": "code",
      "metadata": {
        "id": "G7rXsp5Y2xVQ",
        "outputId": "1e6c95d7-cec6-4c78-e280-6d8a6b92a5da"
      },
      "source": [
        "name = ' eric '\n",
        "\n",
        "print('-' + name.lstrip() + '-')\n",
        "print('-' + name.rstrip() + '-')\n",
        "print('-' + name.strip() + '-')"
      ],
      "execution_count": null,
      "outputs": [
        {
          "output_type": "stream",
          "text": [
            "-eric -\n",
            "- eric-\n",
            "-eric-\n"
          ],
          "name": "stdout"
        }
      ]
    },
    {
      "cell_type": "markdown",
      "metadata": {
        "id": "aGiP-hd12xVQ"
      },
      "source": [
        "<a name='exercises_strings'></a>Exercises\n",
        "---\n",
        "#### Someone Said\n",
        "- Find a quote that you like. Store the quote in a variable, with an appropriate introduction such as \"Ken Thompson once said, 'One of my most productive days was throwing away 1000 lines of code'\". Print the quote.\n",
        "\n",
        "#### First Name Cases\n",
        "- Store your first name, in lowercase, in a variable.\n",
        "- Using that one variable, print your name in lowercase, Titlecase, and UPPERCASE.\n",
        "\n",
        "#### Full Name\n",
        "- Store your first name and last name in separate variables, and then combine them to print out your full name.\n",
        "\n",
        "#### About This Person\n",
        "- Choose a person you look up to. Store their first and last names in separate variables.\n",
        "- Use concatenation to make a sentence about this person, and store that sentence in a variable.-\n",
        "- Print the sentence.\n",
        "\n",
        "#### Name Strip\n",
        "- Store your first name in a variable, but include at least two kinds of whitespace on each side of your name.\n",
        "- Print your name as it is stored.\n",
        "- Print your name with whitespace stripped from the left side, then from the right side, then from both sides."
      ]
    },
    {
      "cell_type": "code",
      "metadata": {
        "id": "zARIMqWn2xVQ"
      },
      "source": [
        "# Ex 2.3 : Someone Said\n",
        "\n",
        "# put your code here"
      ],
      "execution_count": null,
      "outputs": []
    },
    {
      "cell_type": "code",
      "metadata": {
        "id": "-I0vqxI12xVQ"
      },
      "source": [
        "# Ex 2.4 : First Name Cases\n",
        "\n",
        "# put your code here"
      ],
      "execution_count": null,
      "outputs": []
    },
    {
      "cell_type": "code",
      "metadata": {
        "id": "EqG4USj22xVR"
      },
      "source": [
        "# Ex 2.5 : Full Name\n",
        "\n",
        "# put your code here"
      ],
      "execution_count": null,
      "outputs": []
    },
    {
      "cell_type": "code",
      "metadata": {
        "id": "qGV9xCeN2xVR"
      },
      "source": [
        "# Ex 2.6 : About This Person\n",
        "\n",
        "# put your code here"
      ],
      "execution_count": null,
      "outputs": []
    },
    {
      "cell_type": "code",
      "metadata": {
        "id": "HHKiPhXE2xVR"
      },
      "source": [
        "# Ex 2.7 : Name Strip\n",
        "\n",
        "# put your code here"
      ],
      "execution_count": null,
      "outputs": []
    },
    {
      "cell_type": "markdown",
      "metadata": {
        "id": "Zhp1b_O32xVR"
      },
      "source": [
        "[top](#top)"
      ]
    },
    {
      "cell_type": "markdown",
      "metadata": {
        "id": "vKbyd41K2xVR"
      },
      "source": [
        "<a name='numbers'></a>Numbers\n",
        "===\n",
        "Dealing with simple numerical data is fairly straightforward in Python, but there are a few things you should know about."
      ]
    },
    {
      "cell_type": "markdown",
      "metadata": {
        "id": "O-sfdy7w2xVR"
      },
      "source": [
        "<a name='integers'></a>Integers\n",
        "---\n",
        "You can do all of the basic operations with integers, and everything should behave as you expect. Addition and subtraction use the standard plus and minus symbols. Multiplication uses the asterisk, and division uses a forward slash. Exponents use two asterisks."
      ]
    },
    {
      "cell_type": "code",
      "metadata": {
        "id": "tsIcR7JY2xVR",
        "outputId": "e0b59a10-0128-4695-ab55-b6945464fef2"
      },
      "source": [
        "print(3+2)"
      ],
      "execution_count": null,
      "outputs": [
        {
          "output_type": "stream",
          "text": [
            "5\n"
          ],
          "name": "stdout"
        }
      ]
    },
    {
      "cell_type": "code",
      "metadata": {
        "id": "q8voNcCC2xVR",
        "outputId": "68fa5fda-f053-4129-bad2-ba8cf9e6d832"
      },
      "source": [
        "print(3-2)"
      ],
      "execution_count": null,
      "outputs": [
        {
          "output_type": "stream",
          "text": [
            "1\n"
          ],
          "name": "stdout"
        }
      ]
    },
    {
      "cell_type": "code",
      "metadata": {
        "id": "ahEa43S92xVR",
        "outputId": "190ea926-6ff0-43e4-fbbd-5fe7c8b49ae4"
      },
      "source": [
        "print(3*2)"
      ],
      "execution_count": null,
      "outputs": [
        {
          "output_type": "stream",
          "text": [
            "6\n"
          ],
          "name": "stdout"
        }
      ]
    },
    {
      "cell_type": "code",
      "metadata": {
        "id": "LTvJfdYn2xVR",
        "outputId": "7c2d1ad4-41b2-40e1-d125-6dbf0d01c720"
      },
      "source": [
        "print(3/2)"
      ],
      "execution_count": null,
      "outputs": [
        {
          "output_type": "stream",
          "text": [
            "1.5\n"
          ],
          "name": "stdout"
        }
      ]
    },
    {
      "cell_type": "code",
      "metadata": {
        "id": "clRLV8W92xVR",
        "outputId": "3c480dd8-852c-43d8-cced-f4a5feb970f6"
      },
      "source": [
        "print(3**2)"
      ],
      "execution_count": null,
      "outputs": [
        {
          "output_type": "stream",
          "text": [
            "9\n"
          ],
          "name": "stdout"
        }
      ]
    },
    {
      "cell_type": "markdown",
      "metadata": {
        "id": "po-FC0ut2xVR"
      },
      "source": [
        "You can use parenthesis to modify the standard order of operations."
      ]
    },
    {
      "cell_type": "code",
      "metadata": {
        "id": "sUDoAuL82xVR",
        "outputId": "4c837603-9b58-47b3-b8d6-ac7918c3786f"
      },
      "source": [
        "standard_order = 2+3*4\n",
        "print(standard_order)"
      ],
      "execution_count": null,
      "outputs": [
        {
          "output_type": "stream",
          "text": [
            "14\n"
          ],
          "name": "stdout"
        }
      ]
    },
    {
      "cell_type": "code",
      "metadata": {
        "id": "ou3HQXsk2xVR",
        "outputId": "fe2e0b5a-fa45-4264-c30a-23116276eb1e"
      },
      "source": [
        "my_order = (2+3)*4\n",
        "print(my_order)"
      ],
      "execution_count": null,
      "outputs": [
        {
          "output_type": "stream",
          "text": [
            "20\n"
          ],
          "name": "stdout"
        }
      ]
    },
    {
      "cell_type": "markdown",
      "metadata": {
        "id": "rTF1Wk2q2xVR"
      },
      "source": [
        "<a name='floats'></a>Floating-Point numbers\n",
        "---\n",
        "Floating-point numbers refer to any number with a decimal point. Most of the time, you can think of floating point numbers as decimals, and they will behave as you expect them to."
      ]
    },
    {
      "cell_type": "code",
      "metadata": {
        "id": "QVWmIbGn2xVR",
        "outputId": "07d7ccaf-879b-4ff7-dd80-d608c4731d60"
      },
      "source": [
        "print(0.1+0.1)"
      ],
      "execution_count": null,
      "outputs": [
        {
          "output_type": "stream",
          "text": [
            "0.2\n"
          ],
          "name": "stdout"
        }
      ]
    },
    {
      "cell_type": "markdown",
      "metadata": {
        "id": "lY2r2B5N2xVS"
      },
      "source": [
        "However, sometimes you will get an answer with an unexpectly long decimal part:"
      ]
    },
    {
      "cell_type": "code",
      "metadata": {
        "id": "5SMdw16X2xVS",
        "outputId": "de87910e-9a41-4e18-8966-8ab0d7e699b5"
      },
      "source": [
        "print(0.1+0.2)"
      ],
      "execution_count": null,
      "outputs": [
        {
          "output_type": "stream",
          "text": [
            "0.30000000000000004\n"
          ],
          "name": "stdout"
        }
      ]
    },
    {
      "cell_type": "markdown",
      "metadata": {
        "id": "RCpsoqWY2xVS"
      },
      "source": [
        "This happens because of the way computers represent numbers internally; this has nothing to do with Python itself. Basically, we are used to working in powers of ten, where one tenth plus two tenths is just three tenths. But computers work in powers of two. So your computer has to represent 0.1 in a power of two, and then 0.2 as a power of two, and express their sum as a power of two. There is no exact representation for 0.3 in powers of two, and we see that in the answer to 0.1+0.2.\n",
        "\n",
        "Python tries to hide this kind of stuff when possible. Don't worry about it much for now; just don't be surprised by it, and know that we will learn to clean up our results a little later on."
      ]
    },
    {
      "cell_type": "markdown",
      "metadata": {
        "id": "OVrhvcgy2xVS"
      },
      "source": [
        "You can also get the same kind of result with other operations."
      ]
    },
    {
      "cell_type": "code",
      "metadata": {
        "id": "Jx2aNeB42xVS",
        "outputId": "f64d15bd-383a-420f-d283-dc4a20d952a6"
      },
      "source": [
        "print(3*0.1)"
      ],
      "execution_count": null,
      "outputs": [
        {
          "output_type": "stream",
          "text": [
            "0.30000000000000004\n"
          ],
          "name": "stdout"
        }
      ]
    },
    {
      "cell_type": "code",
      "metadata": {
        "id": "agn_x14c2xVS",
        "outputId": "445f4f8a-6649-4760-b80d-fd5f10ef1eb9"
      },
      "source": [
        "# Test\n",
        "3 * 0.1 == 0.3"
      ],
      "execution_count": null,
      "outputs": [
        {
          "output_type": "execute_result",
          "data": {
            "text/plain": [
              "False"
            ]
          },
          "metadata": {
            "tags": []
          },
          "execution_count": 50
        }
      ]
    },
    {
      "cell_type": "markdown",
      "metadata": {
        "id": "LpQWDumh2xVS"
      },
      "source": [
        "## The `decimal` to the rescue\n",
        "\n",
        "The `decimal` module provides support for fast correctly-rounded decimal floating point arithmetic. It offers several advantages over the float datatype.\n",
        "For Example:\n",
        "\n",
        "* Decimal “is based on a floating-point model which was designed with people in mind, and necessarily has a paramount guiding principle – computers must provide an arithmetic that works in the same way as the arithmetic that people learn at school.” – excerpt from the decimal arithmetic specification.\n",
        "\n",
        "\n",
        "* Decimal numbers can be represented exactly. In contrast, numbers like 1.1 and 2.2 do not have exact representations in binary floating point. End users typically would not expect 1.1 + 2.2 to display as 3.3000000000000003 as it does with binary floating point.\n",
        "\n",
        "\n",
        "* The exactness carries over into arithmetic. In decimal floating point, 0.1 + 0.1 + 0.1 - 0.3 is exactly equal to zero. In binary floating point, the result is 5.5511151231257827e-017. While near to zero, the differences prevent reliable equality testing and differences can accumulate. For this reason, decimal is preferred in accounting applications which have strict equality invariants.\n",
        "\n",
        "\n",
        "* Unlike hardware based binary floating point, the decimal module has a user alterable precision (defaulting to 28 places) which can be as large as needed for a given problem\n",
        "\n",
        "\n",
        "* The module design is centered around three concepts: the decimal number, the context for arithmetic, and signals.\n",
        "\n",
        "\n"
      ]
    },
    {
      "cell_type": "markdown",
      "metadata": {
        "id": "inb90dy22xVS"
      },
      "source": [
        "### See Also\n",
        "\n",
        "* [What Every Computer Scientist Should Know About Floating-Point Arithmetic](http://docs.oracle.com/cd/E19957-01/806-3568/ncg_goldberg.html)\n",
        "* [`decimal` module](https://docs.python.org/3/library/decimal.html)\n",
        "\n"
      ]
    },
    {
      "cell_type": "markdown",
      "metadata": {
        "id": "s_2Kffeo2xVS"
      },
      "source": [
        "## Example using decimal"
      ]
    },
    {
      "cell_type": "code",
      "metadata": {
        "id": "0wZ5WvvJ2xVS",
        "outputId": "fd0852fb-db4a-4039-f909-071222574b60"
      },
      "source": [
        "from decimal import Decimal, getcontext\n",
        "getcontext().prec = 17\n",
        "result = 3 * Decimal(0.1)\n",
        "print(type(result))\n",
        "print(3 * Decimal(0.1))\n",
        "print(3 * 0.1)"
      ],
      "execution_count": null,
      "outputs": [
        {
          "output_type": "stream",
          "text": [
            "<class 'decimal.Decimal'>\n",
            "0.30000000000000002\n",
            "0.30000000000000004\n"
          ],
          "name": "stdout"
        }
      ]
    },
    {
      "cell_type": "markdown",
      "metadata": {
        "id": "_L10GxVU2xVS"
      },
      "source": [
        "### Note\n",
        "\n",
        "The first instruction of the previous cell is an exmaple of **selective module import**.\n",
        "\n",
        "So far, just note that the syntax pattern of the selective import is:\n",
        "    \n",
        "    from module import something[,something else comma separated]\n",
        "    \n",
        "See more about this in the notebook specifically devoted to this!"
      ]
    },
    {
      "cell_type": "markdown",
      "metadata": {
        "id": "5UVZ8WaM2xVS"
      },
      "source": [
        "<a name='exercises_numbers'></a>Exercises\n",
        "---\n",
        "#### Arithmetic\n",
        "- Write a program that prints out the results of at least one calculation for each of the basic operations: addition, subtraction, multiplication, division, and exponents.\n",
        "\n",
        "#### Order of Operations\n",
        "- Find a calculation whose result depends on the order of operations.\n",
        "- Print the result of this calculation using the standard order of operations.\n",
        "- Use parentheses to force a nonstandard order of operations. Print the result of this calculation.\n",
        "\n",
        "#### Long Decimals\n",
        "- On paper, 0.1+0.2=0.3. But you have seen that in Python, 0.1+0.2=0.30000000000000004.\n",
        "- Find at least one other calculation that results in a long decimal like this."
      ]
    },
    {
      "cell_type": "code",
      "metadata": {
        "id": "CLNLHZDm2xVS",
        "outputId": "2caf1d4c-4de3-4a3a-cab7-da704d85b7a3"
      },
      "source": [
        "# Ex 2.8 : Arithmetic\n",
        "a = 6\n",
        "b = 5\n",
        "print(\"a + b = \", end='')\n",
        "o = a+b\n",
        "print(o)"
      ],
      "execution_count": null,
      "outputs": [
        {
          "output_type": "stream",
          "text": [
            "a + b = 11\n"
          ],
          "name": "stdout"
        }
      ]
    },
    {
      "cell_type": "code",
      "metadata": {
        "id": "TUEKWTpn2xVS",
        "outputId": "2657ebda-5fc1-4c2f-f4b6-6c8f30eb5456"
      },
      "source": [
        "# Ex 2.9 : Order of Operations\n",
        "result = (3*4)+2\n",
        "print('The result of the calculation of (3*4)+2', result, sep=' = ')"
      ],
      "execution_count": null,
      "outputs": [
        {
          "output_type": "stream",
          "text": [
            "The result of the calculation of (3*4)+2 = 14\n"
          ],
          "name": "stdout"
        }
      ]
    },
    {
      "cell_type": "code",
      "metadata": {
        "id": "-c5Ed81U2xVS"
      },
      "source": [
        "# Ex 2.10 : Long Decimals\n",
        "print(3.125 / 0.2)"
      ],
      "execution_count": null,
      "outputs": []
    },
    {
      "cell_type": "code",
      "metadata": {
        "collapsed": true,
        "id": "gqy6cTVe2xVS"
      },
      "source": [
        ""
      ],
      "execution_count": null,
      "outputs": []
    },
    {
      "cell_type": "markdown",
      "metadata": {
        "id": "3r-fsCVE2xVS"
      },
      "source": [
        "<a name='challenges_numbers'></a>Challenges\n",
        "---\n",
        "#### Neat Arithmetic\n",
        "\n",
        "- Store the results of at least 5 different calculations in separate variables. Make sure you use each operation at least once.\n",
        "- Print a series of informative statements, such as \"The result of the calculation 5+7 is 12.\"\n",
        "\n",
        "#### Neat Order of Operations\n",
        "- Take your work for \"Order of Operations\" above.\n",
        "- Instead of just printing the results, print an informative summary of the results. Show each calculation that is being done and the result of that calculation. Explain how you modified the result using parentheses.\n",
        "\n",
        "#### Long Decimals - Pattern\n",
        "- On paper, 0.1+0.2=0.3. But you have seen that in Python, 0.1+0.2=0.30000000000000004.\n",
        "- Find a number of other calculations that result in a long decimal like this. Try to find a pattern in what kinds of numbers will result in long decimals."
      ]
    },
    {
      "cell_type": "code",
      "metadata": {
        "id": "q5k3MRzU2xVS"
      },
      "source": [
        "# Challenge: Neat Arithmetic\n",
        "\n",
        "# Put your code here"
      ],
      "execution_count": null,
      "outputs": []
    },
    {
      "cell_type": "code",
      "metadata": {
        "id": "NmVgykPO2xVS"
      },
      "source": [
        "# Challenge: Neat Order of Operations\n",
        "\n",
        "# Put your code here"
      ],
      "execution_count": null,
      "outputs": []
    },
    {
      "cell_type": "code",
      "metadata": {
        "id": "UJO5DB5w2xVS"
      },
      "source": [
        "# Challenge: Long Decimals - Pattern\n",
        "\n",
        "# Put your code here"
      ],
      "execution_count": null,
      "outputs": []
    },
    {
      "cell_type": "markdown",
      "metadata": {
        "id": "l1r3868J2xVS"
      },
      "source": [
        "[top](#top)"
      ]
    },
    {
      "cell_type": "markdown",
      "metadata": {
        "id": "24MR_I5k2xVS"
      },
      "source": [
        "<a name='comments'></a>Comments\n",
        "===\n",
        "As you begin to write more complicated code, you will have to spend more time thinking about how to code solutions to the problems you want to solve. Once you come up with an idea, you will spend a fair amount of time troubleshooting your code, and revising your overall approach.\n",
        "\n",
        "Comments allow you to write in English, within your program. In Python, any line that starts with a pound (#) symbol is ignored by the Python interpreter."
      ]
    },
    {
      "cell_type": "code",
      "metadata": {
        "id": "dSF_r7uZ2xVS",
        "outputId": "63bbe84b-6f17-470f-bb85-390f555854b2"
      },
      "source": [
        "# This line is a comment.\n",
        "#this \n",
        "#is \n",
        "#not\n",
        "\n",
        "print(\"This line is not a comment, it is code.\")"
      ],
      "execution_count": null,
      "outputs": [
        {
          "output_type": "stream",
          "text": [
            "This line is not a comment, it is code.\n"
          ],
          "name": "stdout"
        }
      ]
    },
    {
      "cell_type": "markdown",
      "metadata": {
        "id": "cHAP5yAK2xVT"
      },
      "source": [
        "<a name='good_comments'></a>What makes a good comment?\n",
        "---\n",
        "- It is short and to the point, but a complete thought. Most comments should be written in complete sentences.\n",
        "- It explains your thinking, so that when you return to the code later you will understand how you were approaching the problem.\n",
        "- It explains your thinking, so that others who work with your code will understand your overall approach to a problem.\n",
        "- It explains particularly difficult sections of code in detail."
      ]
    },
    {
      "cell_type": "markdown",
      "metadata": {
        "id": "UIAphZMQ2xVT"
      },
      "source": [
        "<a name='when_comments'></a>When should you write a comment?\n",
        "---\n",
        "- When you have to think about code before writing it.\n",
        "- When you are likely to forget later exactly how you were approaching a problem.\n",
        "- When there is more than one way to solve a problem.\n",
        "- When others are unlikely to anticipate your way of thinking about a problem.\n",
        "\n",
        "Writing good comments is one of the clear signs of a good programmer. If you have any real interest in taking programming seriously, start using comments now. You will see them throughout the examples in these notebooks."
      ]
    },
    {
      "cell_type": "markdown",
      "metadata": {
        "id": "c9t2SNvP2xVT"
      },
      "source": [
        "<a name='exercises_comments'></a>Exercises\n",
        "---\n",
        "#### First Comments\n",
        "- Choose the longest, most difficult, or most interesting program you have written so far. Write at least one comment in your program.\n"
      ]
    },
    {
      "cell_type": "code",
      "metadata": {
        "id": "jFMMK6th2xVT"
      },
      "source": [
        "# Ex 2.10 : First Comments\n",
        "\n",
        "# put your code here"
      ],
      "execution_count": null,
      "outputs": []
    },
    {
      "cell_type": "markdown",
      "metadata": {
        "id": "_D3qV8XS2xVT"
      },
      "source": [
        "[top](#top)"
      ]
    },
    {
      "cell_type": "markdown",
      "metadata": {
        "id": "-lhB8QR42xVT"
      },
      "source": [
        "<a name='challenges_overall'></a>Overall Challenges\n",
        "===\n",
        "We have learned quite a bit so far about programming, but we haven't learned enough yet for you to go create something. In the next notebook, things will get much more interesting, and there will be a longer list of overall challenges.\n",
        "\n",
        "<blank>\n",
        "\n",
        "#### What I've Learned\n",
        "- Write a program that uses everything you have learned in this notebook at least once.\n",
        "- Write comments that label each section of your program.\n",
        "- For each thing your program does, write at least one line of output that explains what your program did.\n",
        "- For example, you might have one line that stores your name with some whitespace in a variable, and a second line that strips that whitespace from your name:"
      ]
    },
    {
      "cell_type": "code",
      "metadata": {
        "id": "PR55DcPn2xVT"
      },
      "source": [
        "# Overall Challenge\n",
        "\n",
        "# Put your code here"
      ],
      "execution_count": null,
      "outputs": []
    },
    {
      "cell_type": "code",
      "metadata": {
        "id": "pmTDBi2s2xVT",
        "outputId": "2cffbb34-a4b4-4cfc-ea92-a0b91d1eb61d"
      },
      "source": [
        "# I learned how to strip whitespace from strings.\n",
        "name = '\\t\\teric'\n",
        "print(\"I can strip tabs from my name: \" + name.strip())"
      ],
      "execution_count": null,
      "outputs": [
        {
          "output_type": "stream",
          "text": [
            "I can strip tabs from my name: eric\n"
          ],
          "name": "stdout"
        }
      ]
    },
    {
      "cell_type": "markdown",
      "metadata": {
        "id": "PjHF9e-H2xVT"
      },
      "source": [
        "[top](#top)"
      ]
    }
  ]
}